{
  "nbformat": 4,
  "nbformat_minor": 0,
  "metadata": {
    "colab": {
      "provenance": [],
      "gpuType": "T4",
      "authorship_tag": "ABX9TyPd746VTCH67LwOpPxutENC"
    },
    "kernelspec": {
      "name": "python3",
      "display_name": "Python 3"
    },
    "language_info": {
      "name": "python"
    },
    "accelerator": "GPU"
  },
  "cells": [
    {
      "cell_type": "code",
      "source": [
        "!pip install --upgrade ultralytics wandb"
      ],
      "metadata": {
        "id": "9lDtbBp6xAYf"
      },
      "execution_count": null,
      "outputs": []
    },
    {
      "cell_type": "code",
      "execution_count": null,
      "metadata": {
        "id": "96MdAFS1vtVb"
      },
      "outputs": [],
      "source": [
        "import wandb\n",
        "import ultralytics\n",
        "from ultralytics import YOLO\n",
        "ultralytics.checks()"
      ]
    },
    {
      "cell_type": "code",
      "source": [
        "from google.colab import drive\n",
        "drive.mount('/content/drive')"
      ],
      "metadata": {
        "id": "auhY-_kUzgEd",
        "colab": {
          "base_uri": "https://localhost:8080/"
        },
        "outputId": "43378d06-40b2-4bf0-8f96-f8181ad2571c"
      },
      "execution_count": null,
      "outputs": [
        {
          "output_type": "stream",
          "name": "stdout",
          "text": [
            "Mounted at /content/drive\n"
          ]
        }
      ]
    },
    {
      "cell_type": "code",
      "source": [
        "yaml_file = '/content/drive/My Drive/Brain_Tumour_Full_Dataset/data.yaml'\n",
        "model_file = '/content/drive/My Drive/Brain Tumour Detection.v1i.yolov11/yoloweights/yolo11l.pt'"
      ],
      "metadata": {
        "id": "89Wt4MqLvDYw"
      },
      "execution_count": null,
      "outputs": []
    },
    {
      "cell_type": "code",
      "source": [
        "!yolo detect train data='/content/drive/My Drive/Brain_Tumour_Full_Dataset/data.yaml' model='/content/drive/My Drive/Brain Tumour Detection.v1i.yolov11/yoloweights/yolo11l.pt' device=0 epochs=70 imgsz=512 plots=True project=\"Brain Tumour Full Detection Model yolo11l(70Epochs)\""
      ],
      "metadata": {
        "id": "YT_ayX5rv5xp"
      },
      "execution_count": null,
      "outputs": []
    }
  ]
}